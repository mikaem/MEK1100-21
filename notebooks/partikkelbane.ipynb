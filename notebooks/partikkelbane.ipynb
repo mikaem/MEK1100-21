{
 "cells": [
  {
   "cell_type": "markdown",
   "metadata": {},
   "source": [
    "# Eksempel 1\n",
    "\n",
    "En partikkel skytes ut i tyngdefeltet med fart $v_0=|\\vec{v}(0)|$ i en retning som danner en vinkel $\\alpha$ med horisontalen (z-aksen). Vi antar at det kun er tyngdekraften som virker, så Newton's annen lov gir oss at \n",
    "\n",
    "$$\n",
    "\\begin{equation}\n",
    "m \\vec{a} = -mg \\mathbf{k},\n",
    "\\end{equation}\n",
    "$$\n",
    "\n",
    "der $m$ er massen til partikkelen. Vi kan se bort ifra massen siden vi kan dele begge sider på $m$.\n",
    "\n",
    "<img src='partikkelskytes.png' width=600>"
   ]
  },
  {
   "cell_type": "markdown",
   "metadata": {},
   "source": [
    "Vi kan integrere Newton's annen low to ganger og finne posisjonen $\\vec{r}(t)=x \\mathbf{i} + z \\mathbf{k}$ for partikkelen. Bruker først at $\\vec{a}=d\\vec{v}/dt$ slik at vi får\n",
    "\n",
    "$$\n",
    "\\begin{equation}\n",
    "\\frac{d \\vec{v}}{dt} = -g\\mathbf{k}.\n",
    "\\end{equation}\n",
    "$$\n",
    "\n",
    "Integrerer opp og får\n",
    "\n",
    "$$\n",
    "\\begin{equation}\n",
    "\\vec{v}(t) - \\vec{v}(0) = -g t \\mathbf{k}.\n",
    "\\end{equation}\n",
    "$$"
   ]
  },
  {
   "cell_type": "markdown",
   "metadata": {},
   "source": [
    "Bruker så at $\\vec{v} = d \\vec{r} / dt$ og integrerer på samme måte fra\n",
    "\n",
    "$$\n",
    "\\begin{equation}\n",
    "\\frac{d \\vec{r}}{dt} = \\vec{v}(0) - g t \\mathbf{k}.\n",
    "\\end{equation}\n",
    "$$\n",
    "\n",
    "Ender opp med at\n",
    "\n",
    "$$\n",
    "\\begin{equation}\n",
    "\\vec{r}(t) - \\vec{r}(0) = \\vec{v}(0) t - \\frac{1}{2}g t^2 \\mathbf{k},\n",
    "\\end{equation}\n",
    "$$\n",
    "\n",
    "der vi kan ta bort $\\vec{r}(0)$ siden vi regner at utskytningen starter i origo. \n",
    "\n",
    "Vektoren $\\vec{v}(0)$ kan dekomponeres langs $x$ og $y$-akser ved å bruke vinkelen $\\alpha$. Får at \n",
    "\n",
    "$$\n",
    "\\begin{equation}\n",
    "\\vec{v}(0) = v_0 \\cos(\\alpha) \\mathbf{i} + v_0 \\sin(\\alpha) \\mathbf{k},\n",
    "\\end{equation}\n",
    "$$\n",
    "\n",
    "og dermed har vi funnet posisjonsvektoren $\\vec{r}$ med komponenter\n",
    "\n",
    "$$\n",
    "\\begin{align}\n",
    "  x &= v_0 \\cos(\\alpha) t,\\\\\n",
    "  z &= v_0 \\sin(\\alpha) t - \\frac{1}{2}gt^2.\n",
    "\\end{align}\n",
    "$$\n",
    "\n",
    "Hastighetsvektoren kan også samles sammen til\n",
    "\n",
    "$$\n",
    "\\begin{equation}\n",
    "\\label{eq:v}\n",
    "\\vec{v}(t) = v_0 \\cos(\\alpha) \\mathbf{i} + (v_0 \\sin(\\alpha) - gt) \\mathbf{k}.\n",
    "\\end{equation}\n",
    "$$"
   ]
  },
  {
   "cell_type": "markdown",
   "metadata": {},
   "source": [
    "Vi skal nå modellere dette med et interaktivt plot som viser partikkelbanen og vektoren. Til dette trenger vi å gjøre et par observasjoner. \n",
    "\n",
    " 1. Hva er domenet til partikkelen?\n",
    "   1. Hvor høyt skytes partikkelen?\n",
    "   2. Hvor lang tid tar det før den kommer ned igjen?\n",
    "\n",
    "Finner svar på A ved å se på når hastigheten i z-retningen er lik null (fra $z$-komponenten til $\\vec{v}$ over)\n",
    "\n",
    "$$\n",
    "\\begin{align*}\n",
    "v_0 \\sin(\\alpha) - g t_0 &= 0 \\\\\n",
    "t_0 &= \\frac{v_0 \\sin(\\alpha)}{g}.\n",
    "\\end{align*}\n",
    "$$"
   ]
  },
  {
   "cell_type": "markdown",
   "metadata": {},
   "source": [
    "Høyden ved $t_0$ er gitt ved $z(t_0)$\n",
    "\n",
    "$$\n",
    "z(t_0) = \\frac{(v_0 \\sin(\\alpha))^2}{2 g}\n",
    "$$\n",
    "\n",
    "Så domenet må være minst $[0, z(t_0)]$ for å få med hele partikkelbanen. \n",
    "\n",
    "Tiden det tar for partikkelen å komme ned igjen finner vi ved å løse $z(t) = 0$\n",
    "\n",
    "$$\n",
    "\\begin{align*}\n",
    "v_0 \\sin(\\alpha) t - \\frac{1}{2}gt^2 &= 0 \\\\\n",
    "t\\left(v_0 \\sin(\\alpha) - \\frac{1}{2}g t \\right) &= 0\n",
    "\\end{align*}\n",
    "$$"
   ]
  },
  {
   "cell_type": "markdown",
   "metadata": {},
   "source": [
    "som løses enkelt til\n",
    "\n",
    "$$\n",
    "t = 0 \\lor t = \\frac{2 v_0 \\sin(\\alpha)}{g}\n",
    "$$\n",
    "\n",
    "Vi kaller tiden da partikkelen igjen treffer bakken ($z=0$) for $t_m=2 v_0 \\sin(\\alpha)/g$. Vi innser at simuleringen må gå minst i $t \\in [0, t_m]$.\n",
    "\n",
    "Vi finner domenenet for x-aksen ved å sette sluttiden inn i uttrykket for $x$\n",
    "\n",
    "$$\n",
    "x(\\frac{2 v_0 \\sin(\\alpha)}{g}) = v_0 \\cos(\\alpha) \\frac{2 v_0 \\sin(\\alpha)}{g}.\n",
    "$$\n",
    "\n",
    "Så x-domenet blir $[0, \\frac{2 v_0^2 \\cos(\\alpha)\\sin(\\alpha)}{g}]$.\n",
    "\n",
    "Da er vi klare til å starte plottingen!\n",
    "\n",
    "Vi starter med å importere verktøyene vi trenger. Vi vil lage et interaktivt plot som viser partikkelen langs en bane. Da kan vi bruke [ipywidgets](https://ipywidgets.readthedocs.io/en/latest/)."
   ]
  },
  {
   "cell_type": "code",
   "execution_count": 1,
   "metadata": {},
   "outputs": [],
   "source": [
    "from ipywidgets import interact\n",
    "import matplotlib.pyplot as plt\n",
    "import numpy as np"
   ]
  },
  {
   "cell_type": "code",
   "execution_count": 2,
   "metadata": {},
   "outputs": [
    {
     "name": "stdout",
     "output_type": "stream",
     "text": [
      "[0.         0.01601782 0.03203565 0.04805347 0.06407129 0.08008911\n",
      " 0.09610694 0.11212476 0.12814258 0.1441604  0.16017823 0.17619605\n",
      " 0.19221387 0.20823169 0.22424952 0.24026734 0.25628516 0.27230299\n",
      " 0.28832081 0.30433863 0.32035645 0.33637428 0.3523921  0.36840992\n",
      " 0.38442774 0.40044557 0.41646339 0.43248121 0.44849903 0.46451686\n",
      " 0.48053468 0.4965525  0.51257033 0.52858815 0.54460597 0.56062379\n",
      " 0.57664162 0.59265944 0.60867726 0.62469508 0.64071291 0.65673073\n",
      " 0.67274855 0.68876637 0.7047842  0.72080202 0.73681984 0.75283766\n",
      " 0.76885549 0.78487331 0.80089113 0.81690896 0.83292678 0.8489446\n",
      " 0.86496242 0.88098025 0.89699807 0.91301589 0.92903371 0.94505154\n",
      " 0.96106936 0.97708718 0.993105   1.00912283 1.02514065 1.04115847\n",
      " 1.0571763  1.07319412 1.08921194 1.10522976 1.12124759 1.13726541\n",
      " 1.15328323 1.16930105 1.18531888 1.2013367  1.21735452 1.23337234\n",
      " 1.24939017 1.26540799 1.28142581 1.29744364 1.31346146 1.32947928\n",
      " 1.3454971  1.36151493 1.37753275 1.39355057 1.40956839 1.42558622\n",
      " 1.44160404 1.45762186 1.47363968 1.48965751 1.50567533 1.52169315\n",
      " 1.53771098 1.5537288  1.56974662 1.58576444]\n"
     ]
    }
   ],
   "source": [
    "%matplotlib inline\n",
    "\n",
    "g = 9.81\n",
    "v0 = 10\n",
    "a = np.pi/4\n",
    "t_end = 2*v0*np.sin(a)/g\n",
    "N = 100 # Bruker interval med N punkter\n",
    "t0 = np.linspace(0, t_end*1.1, N) \n",
    "print(t0)"
   ]
  },
  {
   "cell_type": "code",
   "execution_count": 3,
   "metadata": {},
   "outputs": [
    {
     "data": {
      "application/vnd.jupyter.widget-view+json": {
       "model_id": "5b17cc54c17047d99dbb5f8b935cb827",
       "version_major": 2,
       "version_minor": 0
      },
      "text/plain": [
       "interactive(children=(FloatSlider(value=0.7208020195581524, description='t', max=1.4416040391163047, step=0.07…"
      ]
     },
     "metadata": {},
     "output_type": "display_data"
    },
    {
     "data": {
      "text/plain": [
       "<function __main__.partikkelbane(t)>"
      ]
     },
     "execution_count": 3,
     "metadata": {},
     "output_type": "execute_result"
    }
   ],
   "source": [
    "x0 = v0*np.cos(a)*t0\n",
    "z0 = v0*np.sin(a)*t0 - 0.5*g*t0**2\n",
    "    \n",
    "def partikkelbane(t):    \n",
    "    # plot hele partikkelbanen\n",
    "    plt.figure()\n",
    "    plt.plot(x0, z0, 'b')\n",
    "    \n",
    "    # plot partikkelen\n",
    "    x = v0*np.cos(a)*t\n",
    "    z = v0*np.sin(a)*t - 0.5*g*t**2\n",
    "    plt.plot(x, z, 'ok')\n",
    "    \n",
    "    # plot en hastighetsvektor ved t0 og t\n",
    "    plt.arrow(0, 0, 0.5*v0*np.cos(a), 0.5*v0*np.sin(a), width=0.05)\n",
    "    plt.arrow(x, z, 0.5*v0*np.cos(a), 0.5*(v0*np.sin(a)-g*t), width=0.05)\n",
    "    \n",
    "    #posisjonsvektor\n",
    "    plt.arrow(0, 0, x, z, width=0.05, length_includes_head=True)\n",
    "    \n",
    "    plt.ylim(z0.min(), 2*z0.max())\n",
    "    \n",
    "    plt.text(0.25*v0*np.cos(a), 0.3*v0*np.sin(a), r'$\\vec{v}(0)$')\n",
    "    plt.text(x+0.25*v0*np.cos(a), z+0.2*(v0*np.sin(a)-g*t), r'$\\vec{v}(t)$')\n",
    "    plt.text(0.5*x, 0.4*z, r'$\\vec{r}(t)$')\n",
    "    \n",
    "    plt.show()\n",
    "    \n",
    "interact(partikkelbane, t=(0, t_end, t_end/20))"
   ]
  },
  {
   "cell_type": "markdown",
   "metadata": {},
   "source": [
    "Vi kan nå beregne buelengden, eller strekningen partikkelen tilbakelegger, ved å integrere numerisk\n",
    "\n",
    "$$\n",
    "\\begin{equation}\n",
    "L = \\int_{0}^{t_m}|\\vec{v}(t)|dt\n",
    "\\end{equation}\n",
    "$$\n",
    "\n",
    "Numerisk integrasjon kan gjøres i `numpy` ved å bruke trapes-metoden [trapz](https://docs.scipy.org/doc/numpy/reference/generated/numpy.trapz.html). Den krever som input funksjonsverdiene $|\\vec{v}(t_i)|$ og punktene der funksjonsverdiene er samplet, her $t_i=i*t_m/(N-1)$ for $i=0, 1, \\ldots, N-1$ og vi har brukt $N=100$ punkter i koden over.  "
   ]
  },
  {
   "cell_type": "code",
   "execution_count": 4,
   "metadata": {},
   "outputs": [
    {
     "name": "stdout",
     "output_type": "stream",
     "text": [
      "Buelengden er 11.700\n"
     ]
    }
   ],
   "source": [
    "t0 = np.linspace(0, t_end, N) \n",
    "x0 = v0*np.cos(a)*t0\n",
    "z0 = v0*np.sin(a)*t0 - 0.5*g*t0**2\n",
    "L = np.trapz(np.sqrt((v0*np.cos(a))**2 + (v0*np.sin(a) - g*t0)**2), t0)     \n",
    "print('Buelengden er %2.3f'%(L))"
   ]
  },
  {
   "cell_type": "markdown",
   "metadata": {},
   "source": [
    "# Sympy\n",
    "\n",
    "Vi skal nå gjøre samme implemetering ved å benytte [sympy](https://sympy.org) for eksakt symbolsk manipulering av vektorer. Til det skal vi bruke `sympy` sin `vector`-modul som inneholder en klasse for et koordinatsystem `CoordSys3D`."
   ]
  },
  {
   "cell_type": "code",
   "execution_count": 5,
   "metadata": {},
   "outputs": [],
   "source": [
    "import sympy as sp\n",
    "from sympy.vector import CoordSys3D"
   ]
  },
  {
   "cell_type": "markdown",
   "metadata": {},
   "source": [
    "Vi antar nå først at både `v0,a` og `t` er variable"
   ]
  },
  {
   "cell_type": "code",
   "execution_count": 6,
   "metadata": {},
   "outputs": [
    {
     "name": "stdout",
     "output_type": "stream",
     "text": [
      "(t*v0*cos(a))*N.i + (-4.905*t**2 + t*v0*sin(a))*N.k\n",
      "(v0*cos(a))*N.i + (-9.81*t + v0*sin(a))*N.k\n"
     ]
    }
   ],
   "source": [
    "g = 9.81\n",
    "v0, a, t = sp.symbols('v0,a,t')\n",
    "N = CoordSys3D('N')\n",
    "\n",
    "x = v0*sp.cos(a)*t \n",
    "z = v0*sp.sin(a)*t - 0.5*g*t**2\n",
    "\n",
    "# Definer posisjonsvektoren\n",
    "r = x*N.i + z*N.k\n",
    "\n",
    "# Deriver mhp t for å finne hastigheten\n",
    "v = sp.diff(r, t)\n",
    "\n",
    "print(r)\n",
    "print(v)"
   ]
  },
  {
   "cell_type": "code",
   "execution_count": 7,
   "metadata": {},
   "outputs": [
    {
     "name": "stdout",
     "output_type": "stream",
     "text": [
      "[0.         0.01601782 0.03203565 0.04805347 0.06407129 0.08008911\n",
      " 0.09610694 0.11212476 0.12814258 0.1441604  0.16017823 0.17619605\n",
      " 0.19221387 0.20823169 0.22424952 0.24026734 0.25628516 0.27230299\n",
      " 0.28832081 0.30433863 0.32035645 0.33637428 0.3523921  0.36840992\n",
      " 0.38442774 0.40044557 0.41646339 0.43248121 0.44849903 0.46451686\n",
      " 0.48053468 0.4965525  0.51257033 0.52858815 0.54460597 0.56062379\n",
      " 0.57664162 0.59265944 0.60867726 0.62469508 0.64071291 0.65673073\n",
      " 0.67274855 0.68876637 0.7047842  0.72080202 0.73681984 0.75283766\n",
      " 0.76885549 0.78487331 0.80089113 0.81690896 0.83292678 0.8489446\n",
      " 0.86496242 0.88098025 0.89699807 0.91301589 0.92903371 0.94505154\n",
      " 0.96106936 0.97708718 0.993105   1.00912283 1.02514065 1.04115847\n",
      " 1.0571763  1.07319412 1.08921194 1.10522976 1.12124759 1.13726541\n",
      " 1.15328323 1.16930105 1.18531888 1.2013367  1.21735452 1.23337234\n",
      " 1.24939017 1.26540799 1.28142581 1.29744364 1.31346146 1.32947928\n",
      " 1.3454971  1.36151493 1.37753275 1.39355057 1.40956839 1.42558622\n",
      " 1.44160404 1.45762186 1.47363968 1.48965751 1.50567533 1.52169315\n",
      " 1.53771098 1.5537288  1.56974662 1.58576444]\n"
     ]
    }
   ],
   "source": [
    "# Legg parametre i dictionary\n",
    "v0 = 10\n",
    "a = np.pi/4\n",
    "d = {'v0': v0, 'a': a}\n",
    "t_end = 2*v0*np.sin(a)/g\n",
    "\n",
    "# Redefiner variable med disse parameterne\n",
    "x = x.subs(d)\n",
    "z = z.subs(d)\n",
    "r = r.subs(d)\n",
    "v = v.subs(d)\n",
    "\n",
    "# Gjør x og z kallbare funksjoner for numpy-arrays\n",
    "x = sp.lambdify(t, x)\n",
    "z = sp.lambdify(t, z)\n",
    "\n",
    "# Evaluer x og z for hele tidsdomenet\n",
    "t0 = np.linspace(0, t_end*1.1, 100)\n",
    "\n",
    "x0 = x(t0)\n",
    "z0 = z(t0)"
   ]
  },
  {
   "cell_type": "code",
   "execution_count": 8,
   "metadata": {},
   "outputs": [
    {
     "data": {
      "application/vnd.jupyter.widget-view+json": {
       "model_id": "a119d1e4f6254fd3ab2297c437df71e7",
       "version_major": 2,
       "version_minor": 0
      },
      "text/plain": [
       "interactive(children=(FloatSlider(value=0.7928822215139677, description='t', max=1.5857644430279354, step=0.07…"
      ]
     },
     "metadata": {},
     "output_type": "display_data"
    },
    {
     "data": {
      "text/plain": [
       "<function __main__.partikkelbane(t)>"
      ]
     },
     "execution_count": 8,
     "metadata": {},
     "output_type": "execute_result"
    }
   ],
   "source": [
    "%matplotlib inline\n",
    "    \n",
    "def partikkelbane(t):    \n",
    "    # plot hele partikkelbanen\n",
    "    plt.figure()\n",
    "    plt.plot(x0, z0, 'b')\n",
    "    \n",
    "    # plot partikkelen\n",
    "    plt.plot(x(t), z(t), 'ok')\n",
    "    \n",
    "    # plot en hastighetsvektor ved t0 og t\n",
    "    plt.arrow(0, 0, 0.5*v0*np.cos(a), 0.5*v0*np.sin(a), width=0.05)\n",
    "    plt.arrow(x(t), z(t), 0.5*v0*np.cos(a), 0.5*(v0*np.sin(a)-g*t), width=0.05)\n",
    "    \n",
    "    # plot posisjonsvektor\n",
    "    plt.arrow(0, 0, x(t), z(t), width=0.05, length_includes_head=True)\n",
    "    \n",
    "    plt.ylim(z0.min(), 2*z0.max())\n",
    "    \n",
    "    plt.text(0.25*v0*np.cos(a), 0.3*v0*np.sin(a), r'$\\vec{v}(0)$')\n",
    "    plt.text(x(t)+0.25*v0*np.cos(a), z(t)+0.2*(v0*np.sin(a)-g*t), r'$\\vec{v}(t)$')\n",
    "    plt.text(0.5*x(t), 0.4*z(t), r'$\\vec{r}(t)$')\n",
    "    \n",
    "    plt.show()\n",
    "    \n",
    "interact(partikkelbane, t=(0, t_end*1.1, t_end*1.1/20))"
   ]
  },
  {
   "cell_type": "code",
   "execution_count": 10,
   "metadata": {},
   "outputs": [
    {
     "name": "stdout",
     "output_type": "stream",
     "text": [
      "Buelengde = 11.7002\n"
     ]
    }
   ],
   "source": [
    "Ls = sp.Integral(sp.sqrt(v.dot(v)), (t, 0, t_end)).evalf()\n",
    "print('Buelengde = %2.4f'%(Ls))"
   ]
  },
  {
   "cell_type": "code",
   "execution_count": null,
   "metadata": {},
   "outputs": [],
   "source": []
  }
 ],
 "metadata": {
  "kernelspec": {
   "display_name": "Python 3",
   "language": "python",
   "name": "python3"
  },
  "language_info": {
   "codemirror_mode": {
    "name": "ipython",
    "version": 3
   },
   "file_extension": ".py",
   "mimetype": "text/x-python",
   "name": "python",
   "nbconvert_exporter": "python",
   "pygments_lexer": "ipython3",
   "version": "3.8.0"
  },
  "toc": {
   "base_numbering": 1,
   "nav_menu": {},
   "number_sections": false,
   "sideBar": true,
   "skip_h1_title": false,
   "title_cell": "Table of Contents",
   "title_sidebar": "Contents",
   "toc_cell": false,
   "toc_position": {},
   "toc_section_display": true,
   "toc_window_display": false
  }
 },
 "nbformat": 4,
 "nbformat_minor": 2
}
